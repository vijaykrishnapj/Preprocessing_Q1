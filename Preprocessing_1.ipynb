{
  "nbformat": 4,
  "nbformat_minor": 0,
  "metadata": {
    "colab": {
      "provenance": []
    },
    "kernelspec": {
      "name": "python3",
      "display_name": "Python 3"
    },
    "language_info": {
      "name": "python"
    }
  },
  "cells": [
    {
      "cell_type": "code",
      "execution_count": 1,
      "metadata": {
        "colab": {
          "base_uri": "https://localhost:8080/"
        },
        "id": "bZ_mysXavSMn",
        "outputId": "e721ddb7-d067-437f-fa88-ac114a7e0b33"
      },
      "outputs": [
        {
          "output_type": "stream",
          "name": "stdout",
          "text": [
            "Array (1x10 vector): [ 1  2  3  4  5  6  7  8  9 10]\n",
            "Mean: 5.5000\n",
            "Sample Variance): 9.1667\n",
            "Population Variance: 8.2500\n"
          ]
        }
      ],
      "source": [
        "import numpy as np\n",
        "N = 10\n",
        "vector = np.array([1, 2, 3, 4, 5, 6, 7, 8, 9, 10])\n",
        "\n",
        "mean = np.mean(vector)\n",
        "\n",
        "sample_variance = np.var(vector, ddof=1)\n",
        "\n",
        "population_variance = np.var(vector)\n",
        "\n",
        "print(f'Array (1x{N} vector): {vector}')\n",
        "print(f'Mean: {mean:.4f}')\n",
        "print(f'Sample Variance): {sample_variance:.4f}')\n",
        "print(f'Population Variance: {population_variance:.4f}')\n"
      ]
    }
  ]
}